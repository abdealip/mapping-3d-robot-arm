{
 "cells": [
  {
   "cell_type": "code",
   "execution_count": null,
   "metadata": {},
   "outputs": [],
   "source": [
    "from camera_joint_snapshot import CameraJointTracker\n",
    "from plotter_3d import Plotter3D, ViewEnum\n",
    "from camera_mapper import CameraMapper\n",
    "import matplotlib.pyplot as plt\n",
    "\n",
    "point_cloud_filename = \"point_cloud_test.txt\"\n",
    "map_filename = \"map_test.map\"\n",
    "tracker = CameraJointTracker()\n",
    "cm = CameraMapper(\"../config/map_config.json\")\n",
    "plotter = Plotter3D(ViewEnum.ISO_BACK, \"Point Cloud\", [-2, 2], [-2, 2], [-2, 2], figsize=[12, 8])"
   ]
  },
  {
   "cell_type": "code",
   "execution_count": null,
   "metadata": {},
   "outputs": [],
   "source": [
    "depth_image, joint_positions = tracker.snapshot()\n",
    "new_points, new_points_rasterized = cm.process_snapshot(depth_image, joint_positions)\n",
    "plotter.add_points(new_points_rasterized, \"Depth Points\")\n",
    "plotter.set_view(60, -135)\n",
    "plt.show()"
   ]
  },
  {
   "cell_type": "code",
   "execution_count": null,
   "metadata": {},
   "outputs": [],
   "source": [
    "cm.write_point_cloud_to_file(f\"../data/{point_cloud_filename}\")\n",
    "cm.write_map_to_file(f\"../data/{map_filename}\")"
   ]
  }
 ],
 "metadata": {
  "kernelspec": {
   "display_name": "Python 3",
   "language": "python",
   "name": "python3"
  },
  "language_info": {
   "codemirror_mode": {
    "name": "ipython",
    "version": 3
   },
   "file_extension": ".py",
   "mimetype": "text/x-python",
   "name": "python",
   "nbconvert_exporter": "python",
   "pygments_lexer": "ipython3",
   "version": "3.8.10"
  }
 },
 "nbformat": 4,
 "nbformat_minor": 2
}
